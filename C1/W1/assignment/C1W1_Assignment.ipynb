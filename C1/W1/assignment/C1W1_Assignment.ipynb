{
 "cells": [
  {
   "cell_type": "markdown",
   "metadata": {
    "id": "mw2VBrBcgvGa"
   },
   "source": [
    "# Tarea de la semana 1: Precios de la vivienda\n",
    "\n",
    "En este ejercicio, intentarás construir una red neuronal que prediga el precio de una casa según una fórmula sencilla.\n",
    "\n",
    "Imagina que determinar el precio de una casa es tan fácil como:\n",
    "\n",
    "Una casa tiene un costo base de 50 000 dólares y cada dormitorio adicional suma un costo de 50 000 dólares. Esto hará que una casa de 1 dormitorio cueste 100 000 dólares, una casa de 2 dormitorios 150 000 dólares, etc.\n",
    "\n",
    "¿Cómo crearías una red neuronal que aprenda esta relación para predecir que una casa de 7 dormitorios cuesta cerca de 400 000 dólares, etc.?\n",
    "\n",
    "Sugerencia: tu red podría funcionar mejor si reduces el precio de la casa. No tienes que dar la respuesta 400... podría ser mejor crear algo que prediga el número 4, y entonces tu respuesta estará en los \"cientos de miles\", etc."
   ]
  },
  {
   "cell_type": "code",
   "execution_count": null,
   "metadata": {
    "id": "PUNO2E6SeURH"
   },
   "outputs": [],
   "source": [
    "import tensorflow as tf\n",
    "import numpy as np"
   ]
  },
  {
   "cell_type": "code",
   "execution_count": null,
   "metadata": {
    "id": "B-74xrKrBqGJ",
    "tags": [
     "graded"
    ]
   },
   "outputs": [],
   "source": [
    "# FUNCIÓN CALIFICADA: house_model\n",
    "def house_model():\n",
    "### COMIENZA EL CÓDIGO AQUÍ\n",
    "\n",
    "# Define los tensores de entrada y salida con los valores para casas de 1 a 6 habitaciones\n",
    "# Sugerencia: Recuerda establecer explícitamente el tipo de datos como float\n",
    "xs = None\n",
    "ys = None\n",
    "\n",
    "# Define tu modelo (debe ser un modelo con 1 capa densa y 1 unidad)\n",
    "model = None\n",
    "\n",
    "# Compila tu modelo\n",
    "# Establece el optimizador en Descenso de gradiente estocástico\n",
    "# y usa el Error cuadrático medio como función de pérdida\n",
    "model.compile(optimizer=None, loss=None)\n",
    "\n",
    "# Entrena tu modelo para 1000 épocas introduciendo los tensores de entrada/salida\n",
    "model.fit(None, None, epochs=None)\n",
    "\n",
    "### FINALIZA EL CÓDIGO AQUÍ\n",
    "return model"
   ]
  },
  {
   "cell_type": "markdown",
   "metadata": {},
   "source": [
    "Ahora que tiene una función que devuelve un modelo compilado y entrenado cuando se invoca, úsela para hacer que el modelo prediga el precio de las casas:"
   ]
  },
  {
   "cell_type": "code",
   "execution_count": null,
   "metadata": {
    "tags": [
     "graded"
    ]
   },
   "outputs": [],
   "source": [
    "# Get your trained model\n",
    "model = house_model()"
   ]
  },
  {
   "cell_type": "markdown",
   "metadata": {},
   "source": [
    "¡Ahora que su modelo ha terminado de entrenamiento, es hora de probarlo!Puedes hacerlo ejecutando la siguiente celda."
   ]
  },
  {
   "cell_type": "code",
   "execution_count": null,
   "metadata": {
    "id": "kMlInDdSBqGK",
    "tags": [
     "graded"
    ]
   },
   "outputs": [],
   "source": [
    "new_y = 7.0\n",
    "prediction = model.predict([new_y])[0]\n",
    "print(prediction)"
   ]
  },
  {
   "cell_type": "markdown",
   "metadata": {},
   "source": [
    "Si todo salió como se esperaba, debería ver un valor de predicción muy cerca de 4. ** Si no, intente ajustar su código antes de enviar la tarea. ** Observe que puede jugar con el valor de 'new_y`  para obtener diferentes predicciones.En general, debería ver que la red pudo aprender la relación lineal entre `x` e `y`, por lo que si usa un valor de 8.0, debería obtener una predicción cercana a 4.5 y así sucesivamente."
   ]
  },
  {
   "cell_type": "markdown",
   "metadata": {},
   "source": [
    "**¡Felicitaciones por terminar la tarea de esta semana!**\n",
    "\n",
    "Has codificado con éxito una red neuronal que aprendió la relación lineal entre dos variables. ¡Buen trabajo!\n",
    "\n",
    "**¡Sigue así!**"
   ]
  }
 ],
 "metadata": {
  "kernelspec": {
   "display_name": "Python 3",
   "language": "python",
   "name": "python3"
  },
  "language_info": {
   "codemirror_mode": {
    "name": "ipython",
    "version": 3
   },
   "file_extension": ".py",
   "mimetype": "text/x-python",
   "name": "python",
   "nbconvert_exporter": "python",
   "pygments_lexer": "ipython3",
   "version": "3.12.7"
  }
 },
 "nbformat": 4,
 "nbformat_minor": 4
}
