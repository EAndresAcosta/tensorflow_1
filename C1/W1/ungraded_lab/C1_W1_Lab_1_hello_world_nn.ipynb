{
 "cells": [
  {
   "cell_type": "markdown",
   "metadata": {},
   "source": [
    "<a href=\"https://colab.research.google.com/github/https-deeplearning-ai/tensorflow-1-public/blob/master/C1/W1/ungraded_lab/C1_W1_Lab_1_hello_world_nn.ipynb\" target=\"_parent\"><img src=\"https://colab.research.google.com/assets/colab-badge.svg\" alt=\"Open In Colab\"/></a>"
   ]
  },
  {
   "cell_type": "markdown",
   "metadata": {
    "id": "ZIAkIlfmCe1B"
   },
   "source": [
    "# Laboratorio sin calificación: El Hola Mundo del Aprendizaje Profundo con Redes Neuronales"
   ]
  },
  {
   "cell_type": "markdown",
   "metadata": {
    "id": "fA93WUy1zzWf"
   },
   "source": [
    "Como toda primera aplicación, debes comenzar con algo súper simple que muestre la estructura general de cómo funciona tu código. En el caso de la creación de redes neuronales, un caso simple es cuando aprende la relación entre dos números. Entonces, por ejemplo, si estuvieras escribiendo código para una función como esta, ya conoces las \"reglas\":\n",
    "\n",
    "```\n",
    "def hw_function(x):\n",
    "y = (2 * x) - 1\n",
    "return y\n",
    "```\n",
    "\n",
    "Entonces, ¿cómo entrenarías a una red neuronal para que haga la tarea equivalente? ¡Usando datos! Al alimentarla con un conjunto de x e y, debería poder descubrir la relación entre ellas.\n",
    "\n",
    "Evidentemente, este es un paradigma muy diferente al que podrías estar acostumbrado. Así que veámoslo paso a paso."
   ]
  },
  {
   "cell_type": "markdown",
   "metadata": {
    "id": "DzbtdRcZDO9B"
   },
   "source": [
    "## Importaciones\n",
    "\n",
    "Comencemos con las importaciones. Aquí, estás importando [TensorFlow](https://www.tensorflow.org/) y lo llamas `tf` por convención y facilidad de uso.\n",
    "\n",
    "Luego importas una biblioteca llamada [`numpy`](https://numpy.org) que ayuda a representar datos como matrices fácilmente y a optimizar operaciones numéricas.\n",
    "\n",
    "El marco que usarás para construir una red neuronal como una secuencia de capas se llama [`keras`](https://keras.io/), por lo que también lo importarás."
   ]
  },
  {
   "cell_type": "code",
   "execution_count": 1,
   "metadata": {
    "id": "X9uIpOS2zx7k"
   },
   "outputs": [
    {
     "name": "stdout",
     "output_type": "stream",
     "text": [
      "2.17.0\n"
     ]
    }
   ],
   "source": [
    "import tensorflow as tf\n",
    "import numpy as np\n",
    "from tensorflow import keras\n",
    "\n",
    "print(tf.__version__)"
   ]
  },
  {
   "cell_type": "markdown",
   "metadata": {
    "id": "wwJGmDrQ0EoB"
   },
   "source": [
    "## Definir y compilar la red neuronal\n",
    "\n",
    "A continuación, creará la red neuronal más simple posible. Tiene 1 capa con 1 neurona y la forma de entrada es solo 1 valor. Construirá este modelo utilizando la clase [Sequential](https://keras.io/api/models/sequential/) de Keras, que le permite definir la red como una secuencia de [capas](https://keras.io/api/layers/). Puede utilizar una sola capa [Dense](https://keras.io/api/layers/core_layers/dense/) para construir esta red simple como se muestra a continuación."
   ]
  },
  {
   "cell_type": "code",
   "execution_count": null,
   "metadata": {
    "id": "kQFAr_xo0M4T"
   },
   "outputs": [],
   "source": [
    "# Construir un modelo secuencial simple\n",
    "model = tf.keras.Sequential([keras.layers.Dense(units=1, input_shape=[1])])"
   ]
  },
  {
   "cell_type": "markdown",
   "metadata": {
    "id": "KhjZjZ-c0Ok9"
   },
   "source": [
    "Ahora, compilarás la red neuronal. Cuando lo hagas, tendrás que especificar dos funciones: una [pérdida](https://keras.io/api/losses/) y un [optimizador](https://keras.io/api/optimizers/).\n",
    "\n",
    "Si has visto muchas matemáticas para el aprendizaje automático, aquí es donde se suele utilizar. Pero en este caso, está muy bien encapsulado en funciones y clases para ti. Pero, ¿qué sucede aquí? Vamos a explicarlo...\n",
    "\n",
    "Sabes que en la función declarada al principio de este cuaderno, la relación entre los números es `y=2x-1`. Cuando la computadora intenta \"aprender\" eso, hace una suposición... tal vez `y=10x+10`. La función `pérdida` mide las respuestas supuestas contra las respuestas correctas conocidas y mide qué tan bien o qué tan mal lo hizo.\n",
    "\n",
    "Luego usa la función `optimizador` para hacer otra suposición. Según cómo fue la función de pérdida, intentará minimizar la pérdida. En ese punto, tal vez se le ocurra algo como `y=5x+5`, que, aunque sigue siendo bastante malo, está más cerca del resultado correcto (es decir, la pérdida es menor).\n",
    "\n",
    "Repetirá esto para la cantidad de _épocas_ que verá en breve. Pero primero, aquí le mostramos cómo le indicará que use [error cuadrático medio](https://keras.io/api/losses/regression_losses/#meansquarederror-function) para la pérdida y [descenso de gradiente estocástico](https://keras.io/api/optimizers/sgd/) para el optimizador. No necesita comprender las matemáticas para esto todavía, ¡pero puede ver que funcionan!\n",
    "\n",
    "Con el tiempo, aprenderá las diferentes y apropiadas funciones de pérdida y optimizador para diferentes escenarios."
   ]
  },
  {
   "cell_type": "code",
   "execution_count": null,
   "metadata": {
    "id": "m8YQN1H41L-Y"
   },
   "outputs": [],
   "source": [
    "# Compile the model\n",
    "model.compile(optimizer='sgd', loss='mean_squared_error')"
   ]
  },
  {
   "cell_type": "markdown",
   "metadata": {
    "id": "5QyOUhFw1OUX"
   },
   "source": [
    "## Proporcionar los datos\n",
    "\n",
    "A continuación, introducirá algunos datos. En este caso, tomará 6 X y 6 Y. Puede ver que la relación entre estos es `y=2x-1`, donde `x = -1`, `y=-3`, etc.\n",
    "\n",
    "La forma estándar de facto de declarar las entradas y salidas del modelo es usar `numpy`, una biblioteca de Python que proporciona muchas estructuras de datos de tipo matriz. Puede especificar estos valores creando matrices numpy con [`np.array()`](https://numpy.org/doc/stable/reference/generated/numpy.array.html)."
   ]
  },
  {
   "cell_type": "code",
   "execution_count": null,
   "metadata": {
    "id": "4Dxk4q-jzEy4"
   },
   "outputs": [],
   "source": [
    "# Declare model inputs and outputs for training\n",
    "xs = np.array([-1.0,  0.0, 1.0, 2.0, 3.0, 4.0], dtype=float)\n",
    "ys = np.array([-3.0, -1.0, 1.0, 3.0, 5.0, 7.0], dtype=float)"
   ]
  },
  {
   "cell_type": "markdown",
   "metadata": {
    "id": "n_YcWRElnM_b"
   },
   "source": [
    "# Entrenamiento de la red neuronal\n",
    "\n",
    "El proceso de entrenamiento de la red neuronal, donde \"aprende\" la relación entre las x y las y, se realiza en la llamada [`model.fit()`](https://keras.io/api/models/model_training_apis/#fit-method). Aquí es donde pasará por el ciclo del que hablamos anteriormente: hará una suposición, medirá qué tan buena o mala es (también conocida como la pérdida), usará el optimizador para hacer otra suposición, etc. Lo hará durante la cantidad de \"épocas\" que especifique. Cuando ejecute este código, verá la pérdida en el lado derecho."
   ]
  },
  {
   "cell_type": "code",
   "execution_count": null,
   "metadata": {
    "id": "lpRrl7WK10Pq"
   },
   "outputs": [],
   "source": [
    "# Train the model\n",
    "model.fit(xs, ys, epochs=500)"
   ]
  },
  {
   "cell_type": "markdown",
   "metadata": {
    "id": "kaFIr71H2OZ-"
   },
   "source": [
    "Bien, ahora tienes un modelo que ha sido entrenado para aprender la relación entre `x` e `y`. Puedes usar el método [`model.predict()`](https://keras.io/api/models/model_training_apis/#predict-method) para que averigüe la `y` para una `x` previamente desconocida. Entonces, por ejemplo, si `x=10`, ¿qué crees que será `y`? Haz una suposición antes de ejecutar este código:"
   ]
  },
  {
   "cell_type": "code",
   "execution_count": null,
   "metadata": {
    "id": "oxNzL4lS2Gui"
   },
   "outputs": [],
   "source": [
    "# Make a prediction\n",
    "print(model.predict([10.0]))"
   ]
  },
  {
   "cell_type": "markdown",
   "metadata": {
    "id": "btF2CSFH2iEX"
   },
   "source": [
    "Quizás hayas pensado \"19\", ¿verdad? Pero terminó siendo un poco menos. ¿A qué crees que se debe?\n",
    "\n",
    "Recuerda que las redes neuronales trabajan con probabilidades. Por lo tanto, dados los datos con los que alimentamos el modelo, calculó que existe una probabilidad muy alta de que la relación entre \"x\" e \"y\" sea \"y = 2x-1\", pero con solo 6 puntos de datos no podemos saberlo con certeza. Como resultado, el resultado para 10 es muy cercano a 19, pero no necesariamente 19.\n",
    "\n",
    "A medida que trabajes con redes neuronales, verás que este patrón se repite. Casi siempre trabajarás con probabilidades, no con certezas, y harás un poco de codificación para averiguar cuál es el resultado en función de las probabilidades, en particular cuando se trata de clasificación."
   ]
  }
 ],
 "metadata": {
  "colab": {
   "collapsed_sections": [],
   "name": "C1_W1_Lab_1_hello_world_nn.ipynb",
   "private_outputs": true,
   "provenance": [
    {
     "file_id": "https://github.com/https-deeplearning-ai/tensorflow-1-public/blob/main/C1/W1/ungraded_lab/C1_W1_Lab_1_hello_world_nn.ipynb",
     "timestamp": 1637670538744
    }
   ],
   "toc_visible": true
  },
  "kernelspec": {
   "display_name": "Python 3",
   "language": "python",
   "name": "python3"
  },
  "language_info": {
   "codemirror_mode": {
    "name": "ipython",
    "version": 3
   },
   "file_extension": ".py",
   "mimetype": "text/x-python",
   "name": "python",
   "nbconvert_exporter": "python",
   "pygments_lexer": "ipython3",
   "version": "3.12.7"
  }
 },
 "nbformat": 4,
 "nbformat_minor": 1
}
